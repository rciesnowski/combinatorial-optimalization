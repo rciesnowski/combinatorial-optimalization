{
 "cells": [
  {
   "cell_type": "code",
   "execution_count": 7,
   "metadata": {},
   "outputs": [],
   "source": [
    "import random\n",
    "import time"
   ]
  },
  {
   "cell_type": "code",
   "execution_count": 12,
   "metadata": {},
   "outputs": [],
   "source": [
    "def zredukowany_plecak(S, cel):\n",
    "    memo = [0 for i in range(cel+1)]\n",
    "    for i in range(1, len(S)+1):  # pierwsze i elementów\n",
    "        for w in range(cel, 0, -1): # idziemy od tyłu, aby korzystać z zapamiętanych wyników dla i-1 elementów\n",
    "            if S[i-1] <= w:\n",
    "                memo[w] = max(memo[w], memo[w-S[i-1]]+S[i-1])\n",
    " \n",
    "    return memo[cel]"
   ]
  },
  {
   "cell_type": "code",
   "execution_count": 13,
   "metadata": {},
   "outputs": [],
   "source": [
    "def wypisz_red(moc, S, epsilon = 100):\n",
    "    print(\"\\nPROGRAMOWANIE DYNAMICZNE BEZ APROKSYMACJI\")\n",
    "    start = time.time()\n",
    "    print(\"moc zbioru:\\t\", moc, \"\\nsuma docelowa:\\t\", \"100000\\nsuma podzbioru:\\t\", zredukowany_plecak(S, 100000))\n",
    "    czas = time.time() - start\n",
    "    if czas > 100:\n",
    "        czas = czas/60\n",
    "        print(\"czas wykonania:\\t\", czas, \"min\")\n",
    "    else:\n",
    "        print(\"czas wykonania:\\t\", czas, \"s\")"
   ]
  },
  {
   "cell_type": "code",
   "execution_count": 14,
   "metadata": {},
   "outputs": [],
   "source": [
    "def zaokraglenia(S, cel, epsilon):\n",
    "    cel_ = int(float(cel) / epsilon)\n",
    "    S_ = [(round(float(i) / epsilon) + 1) for i in S]\n",
    "    return S_, cel_\n",
    "\n",
    "# O(n2⌊n/ε⌋)\n",
    "def zaokraglony_plecak(S, cel, epsilon):\n",
    "    S, cel = zaokraglenia(S, cel, epsilon)\n",
    "    memo = [0 for i in range(cel+1)]\n",
    "    for i in range(1, len(S)+1):  # pierwsze i elementów\n",
    "        for w in range(cel, 0, -1): # idziemy od tyłu, aby korzystać z zapamiętanych wyników dla i-1 elementów\n",
    "            if S[i-1] <= w:\n",
    "                memo[w] = max(memo[w], memo[w-S[i-1]]+S[i-1])\n",
    " \n",
    "    return memo[cel]*epsilon"
   ]
  },
  {
   "cell_type": "code",
   "execution_count": 29,
   "metadata": {},
   "outputs": [],
   "source": [
    "def wypisz_round(moc, S, epsilon = 100):\n",
    "    print(\"\\nZAOKRĄGLANIE INSTANCJI\")\n",
    "    start = time.time()\n",
    "    print(\"moc zbioru:\\t\", moc, \"\\nsuma docelowa:\\t\", \"100010\\nepsilon:\\t\", epsilon, \"\\nsuma podzbioru:\\t\", zaokraglony_plecak(S, 100000000, epsilon))\n",
    "    czas = time.time() - start\n",
    "    if czas > 100:\n",
    "        czas = czas/60\n",
    "        print(\"czas wykonania:\\t\", czas, \"min\")\n",
    "    else:\n",
    "        print(\"czas wykonania:\\t\", czas, \"s\")"
   ]
  },
  {
   "cell_type": "code",
   "execution_count": 30,
   "metadata": {},
   "outputs": [],
   "source": [
    "def scal(L, L_):\n",
    "    scalona, i_ = [], 0\n",
    "    for i in sorted(L + L_):\n",
    "        if i != i_:\n",
    "            i_ = i\n",
    "            scalona.append(i)\n",
    "    return scalona\n",
    "\n",
    "def skracanie_delta(E, delta):\n",
    "    skrocona, i_ = [], 0\n",
    "    for i in E:\n",
    "        if i > i_ * (1 + delta):\n",
    "            skrocona.append(i)\n",
    "            i_ = i\n",
    "    return skrocona\n",
    "\n",
    "# algorytm subsetSumFPTAS\n",
    "# zbiór S = {x_1, ..., x_n} jest posortowany\n",
    "# O(n^2*log t/delta)\n",
    "def suma_zbioru(S, cel, delta):\n",
    "    L = [0]\n",
    "    for i, x_i in enumerate(S, start=1):\n",
    "        # do każdego elementu z L dodajemy element x\n",
    "        L_ = [x_i + x for x in L]\n",
    "        # scalanie z usunięciem powtórzeń z listy, O(|L|+|L_|)\n",
    "        E = scal(L, L_)\n",
    "        # skracamy listę o elementy będące delta-przybliżeniem poprzedniego\n",
    "        L = skracanie_delta(E, delta = float(delta) / len(S))\n",
    "        # usuwamy elementy większe niż celowa suma\n",
    "        L = [x for x in L if x <= cel]\n",
    "\n",
    "    return L[-1]"
   ]
  },
  {
   "cell_type": "code",
   "execution_count": 31,
   "metadata": {},
   "outputs": [],
   "source": [
    "def wypisz(moc, delta, S):\n",
    "    print(\"\\nSKRACANIE LISTY\")\n",
    "    start = time.time()\n",
    "    print(\"moc zbioru:\\t\", moc, \"\\nsuma docelowa:\\t\", \"100000\\ndelta:\\t\\t\", delta, \"\\nsuma podzbioru:\\t\", suma_zbioru(S, 100000000, delta))\n",
    "    czas = time.time() - start\n",
    "    if czas > 100:\n",
    "        czas = czas/60\n",
    "        print(\"czas wykonania:\\t\", czas, \"min\")\n",
    "    else:\n",
    "        print(\"czas wykonania:\\t\", czas, \"s\")"
   ]
  },
  {
   "cell_type": "code",
   "execution_count": 32,
   "metadata": {},
   "outputs": [],
   "source": [
    "S_100 = sorted([random.randint(1000,200000) for i in range(100)])\n",
    "S_200 = sorted([random.randint(1000,200000) for i in range(200)])\n",
    "S_400 = sorted([random.randint(1000,200000) for i in range(400)])\n",
    "\n",
    "S_400_ = [pow(2, n) for n in range(63)]\n",
    "S_800 = sorted([random.randint(1000,200000) for i in range(800)])\n",
    "S_1600 = sorted([random.randint(1000,200000) for i in range(1600)])\n",
    "S_12800 = sorted([random.randint(1000,200000) for i in range(10000)])\n",
    "cel = 100000"
   ]
  },
  {
   "cell_type": "code",
   "execution_count": 33,
   "metadata": {},
   "outputs": [
    {
     "name": "stdout",
     "output_type": "stream",
     "text": [
      "\n",
      "ZAOKRĄGLANIE INSTANCJI\n",
      "moc zbioru:\t 63 \n",
      "suma docelowa:\t 100010\n",
      "epsilon:\t 100 \n",
      "suma podzbioru:\t 100000000\n",
      "czas wykonania:\t 20.81667971611023 s\n",
      "\n",
      "SKRACANIE LISTY\n",
      "moc zbioru:\t 63 \n",
      "suma docelowa:\t 100000\n",
      "delta:\t\t 0.5 \n",
      "suma podzbioru:\t 99784193\n",
      "czas wykonania:\t 0.062490224838256836 s\n"
     ]
    }
   ],
   "source": [
    "wypisz_round(63, S_400_, 100)\n",
    "wypisz(63, 0.5, S_400_)"
   ]
  },
  {
   "cell_type": "code",
   "execution_count": 24,
   "metadata": {},
   "outputs": [
    {
     "name": "stdout",
     "output_type": "stream",
     "text": [
      "\n",
      "PROGRAMOWANIE DYNAMICZNE BEZ APROKSYMACJI\n",
      "moc zbioru:\t 100 \n",
      "suma docelowa:\t 100000\n",
      "suma podzbioru:\t 100000\n",
      "czas wykonania:\t 2.5023245811462402 s\n",
      "\n",
      "ZAOKRĄGLANIE INSTANCJI\n",
      "moc zbioru:\t 100 \n",
      "suma docelowa:\t 100010\n",
      "epsilon:\t 20 \n",
      "suma podzbioru:\t 100000\n",
      "czas wykonania:\t 0.10936880111694336 s\n",
      "\n",
      "ZAOKRĄGLANIE INSTANCJI\n",
      "moc zbioru:\t 100 \n",
      "suma docelowa:\t 100010\n",
      "epsilon:\t 100 \n",
      "suma podzbioru:\t 100000\n",
      "czas wykonania:\t 0.015624761581420898 s\n",
      "\n",
      "SKRACANIE LISTY\n",
      "moc zbioru:\t 100 \n",
      "suma docelowa:\t 100000\n",
      "delta:\t\t 0.2 \n",
      "suma podzbioru:\t 99814\n",
      "czas wykonania:\t 0.0468754768371582 s\n",
      "\n",
      "SKRACANIE LISTY\n",
      "moc zbioru:\t 100 \n",
      "suma docelowa:\t 100000\n",
      "delta:\t\t 0.5 \n",
      "suma podzbioru:\t 99825\n",
      "czas wykonania:\t 0.03125 s\n"
     ]
    }
   ],
   "source": [
    "wypisz_red(100, S_100)\n",
    "wypisz_round(100, S_100, 20)\n",
    "wypisz_round(100, S_100, 100)\n",
    "wypisz(100, 0.2, S_100)\n",
    "wypisz(100, 0.5, S_100)"
   ]
  },
  {
   "cell_type": "code",
   "execution_count": 51,
   "metadata": {},
   "outputs": [
    {
     "name": "stdout",
     "output_type": "stream",
     "text": [
      "\n",
      "PROGRAMOWANIE DYNAMICZNE BEZ APROKSYMACJI\n",
      "moc zbioru:\t 200 \n",
      "suma docelowa:\t 100000\n",
      "suma podzbioru:\t 100000\n",
      "czas wykonania:\t 4.909085988998413 s\n",
      "\n",
      "ZAOKRĄGLANIE INSTANCJI\n",
      "moc zbioru:\t 200 \n",
      "suma docelowa:\t 100000\n",
      "epsilon:\t 100 \n",
      "suma podzbioru:\t 100000\n",
      "czas wykonania:\t 0.043320417404174805 s\n",
      "\n",
      "SKRACANIE LISTY\n",
      "moc zbioru:\t 200 \n",
      "suma docelowa:\t 100000\n",
      "delta:\t\t 0.5 \n",
      "suma podzbioru:\t 99933\n",
      "czas wykonania:\t 0.08434820175170898 s\n"
     ]
    }
   ],
   "source": [
    "wypisz_red(200, S_200)\n",
    "wypisz_round(200, S_200, 100)\n",
    "wypisz(200, 0.5, S_200)"
   ]
  },
  {
   "cell_type": "code",
   "execution_count": 52,
   "metadata": {},
   "outputs": [
    {
     "name": "stdout",
     "output_type": "stream",
     "text": [
      "\n",
      "PROGRAMOWANIE DYNAMICZNE BEZ APROKSYMACJI\n",
      "moc zbioru:\t 400 \n",
      "suma docelowa:\t 100000\n",
      "suma podzbioru:\t 100000\n",
      "czas wykonania:\t 9.632243394851685 s\n",
      "\n",
      "ZAOKRĄGLANIE INSTANCJI\n",
      "moc zbioru:\t 400 \n",
      "suma docelowa:\t 100000\n",
      "epsilon:\t 100 \n",
      "suma podzbioru:\t 100000\n",
      "czas wykonania:\t 0.1043853759765625 s\n",
      "\n",
      "SKRACANIE LISTY\n",
      "moc zbioru:\t 400 \n",
      "suma docelowa:\t 100000\n",
      "delta:\t\t 0.5 \n",
      "suma podzbioru:\t 99926\n",
      "czas wykonania:\t 0.5229926109313965 s\n"
     ]
    }
   ],
   "source": [
    "wypisz_red(400, S_400)\n",
    "wypisz_round(400, S_400, 100)\n",
    "wypisz(400, 0.5, S_400)"
   ]
  },
  {
   "cell_type": "code",
   "execution_count": 53,
   "metadata": {},
   "outputs": [
    {
     "name": "stdout",
     "output_type": "stream",
     "text": [
      "\n",
      "PROGRAMOWANIE DYNAMICZNE BEZ APROKSYMACJI\n",
      "moc zbioru:\t 800 \n",
      "suma docelowa:\t 100000\n",
      "suma podzbioru:\t 100000\n",
      "czas wykonania:\t 22.405396223068237 s\n",
      "\n",
      "ZAOKRĄGLANIE INSTANCJI\n",
      "moc zbioru:\t 800 \n",
      "suma docelowa:\t 100000\n",
      "epsilon:\t 100 \n",
      "suma podzbioru:\t 100000\n",
      "czas wykonania:\t 0.18749785423278809 s\n",
      "\n",
      "SKRACANIE LISTY\n",
      "moc zbioru:\t 800 \n",
      "suma docelowa:\t 100000\n",
      "delta:\t\t 0.5 \n",
      "suma podzbioru:\t 99945\n",
      "czas wykonania:\t 2.9185116291046143 s\n"
     ]
    }
   ],
   "source": [
    "wypisz_red(800, S_800)\n",
    "wypisz_round(800, S_800, 100)\n",
    "wypisz(800, 0.5, S_800)"
   ]
  },
  {
   "cell_type": "code",
   "execution_count": 54,
   "metadata": {},
   "outputs": [
    {
     "name": "stdout",
     "output_type": "stream",
     "text": [
      "\n",
      "ZAOKRĄGLANIE INSTANCJI\n",
      "moc zbioru:\t 1600 \n",
      "suma docelowa:\t 100000\n",
      "epsilon:\t 100 \n",
      "suma podzbioru:\t 100000\n",
      "czas wykonania:\t 0.3928031921386719 s\n",
      "\n",
      "SKRACANIE LISTY\n",
      "moc zbioru:\t 1600 \n",
      "suma docelowa:\t 100000\n",
      "delta:\t\t 0.5 \n",
      "suma podzbioru:\t 99968\n",
      "czas wykonania:\t 10.99004316329956 s\n"
     ]
    }
   ],
   "source": [
    "wypisz_round(1600, S_1600, 100)\n",
    "wypisz(1600, 0.5, S_1600)"
   ]
  },
  {
   "cell_type": "code",
   "execution_count": 9,
   "metadata": {},
   "outputs": [
    {
     "name": "stdout",
     "output_type": "stream",
     "text": [
      "\n",
      "ZAOKRĄGLANIE INSTANCJI\n",
      "moc zbioru:\t 12800 \n",
      "suma docelowa:\t 100000\n",
      "epsilon:\t 100 \n",
      "suma podzbioru:\t 100000\n",
      "czas wykonania:\t 2.7066664695739746 s\n"
     ]
    }
   ],
   "source": [
    "wypisz_round(12800, S_12800, 100)"
   ]
  },
  {
   "cell_type": "code",
   "execution_count": null,
   "metadata": {},
   "outputs": [],
   "source": []
  }
 ],
 "metadata": {
  "kernelspec": {
   "display_name": "Python 3",
   "language": "python",
   "name": "python3"
  },
  "language_info": {
   "codemirror_mode": {
    "name": "ipython",
    "version": 3
   },
   "file_extension": ".py",
   "mimetype": "text/x-python",
   "name": "python",
   "nbconvert_exporter": "python",
   "pygments_lexer": "ipython3",
   "version": "3.8.5"
  }
 },
 "nbformat": 4,
 "nbformat_minor": 4
}
