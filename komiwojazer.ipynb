{
 "cells": [
  {
   "cell_type": "code",
   "execution_count": 1,
   "metadata": {},
   "outputs": [],
   "source": [
    "from math import sqrt\n",
    "\n",
    "def odleglosc(p, q):\n",
    "    return sqrt((p[0] - q[0])**2 + (p[1] - q[1])**2)\n",
    "\n",
    "def odleglosc_bez_sqrt(p, q):\n",
    "    return (p[0] - q[0])**2 + (p[1] - q[1])**2\n",
    "\n",
    "def odleglosci(punkty):\n",
    "    n = len(punkty)\n",
    "    macierz = np.zeros((n,n))\n",
    "    for k in range(n):\n",
    "        for j in range(n):\n",
    "            if(k == j): \n",
    "                macierz[k][j] = 0\n",
    "            if macierz[j][k] != 0:\n",
    "                macierz[k][j] = macierz[j][k]\n",
    "            else:\n",
    "                macierz[k][j] = odleglosc_bez_sqrt(punkty[k], punkty[j])\n",
    "    return macierz\n",
    "\n",
    "# moze byc tez zastapione przez:\n",
    "# from sklearn.metrics.pairwise import euclidean_distances\n",
    "# euclidean_distances(punkty, punkty)"
   ]
  },
  {
   "cell_type": "markdown",
   "metadata": {},
   "source": [
    "Mamy zbiór punktów {1, 2, ..., n}. Niech punkt 1 będzie punktem startowym i końcowym szukanego cyklu.\n",
    "Dla każdego innego punktu k (innego niż 1), znajdujemy ścieżkę o minimalnym koszcie, prowadzącą z 1 do k i zawierającą wszystkie punkty zbioru dokładnie raz.\n",
    "Niech koszt tej ścieżki wynosi koszt(k), a koszt odpowiedniego cyklu będzie wynosić koszt(k)+dystans(1, k).\n",
    "Odpowiedzią na problem będzie najkrótszy z (n-1) cykli.\n",
    "\n",
    "Wykorzystując programowanie dynamiczne, możemy obliczyć koszt(k) za pomocą rozwiązywania podproblemów.\n",
    "\n",
    "Niech koszt(X, k) będzie oznaczać koszt najkrótszej ścieżki odwiedzającej każdy punkt ze zbioru X dokładnie raz, zaczynając od 1 i kończąc w k. Zaczynamy z podzbiorami mocy 2 i obliczamy koszt(X, k) dla wszystkich X o mocy 2, następnie dla podbiorów o większych mocy. Punkt 1 musi być obecny w każdym podzbiorze.\n",
    "\n",
    "Jesli siła zbioru X jest równa 2, wówczas X = {1, k}, a koszt(X, k) = dystans(1, i).\n",
    "Jesli siła zbioru X jest większa niż 2, koszt(X, k) jest najmniejszą wartością spośród wszystkich (koszt(X\\\\{k}, i) + dystans(k, i)), gdzie i należy do X oraz nie jest równe k ani 1.\n",
    "\n",
    "Aby przedstawić pozbiory, możemy używać masek bitowych informujących, jakie punkty występują w podbiorze.\n",
    "\n",
    "Złożoność czasowa rozwiązania wynosi O(n^2 * 2^n)."
   ]
  },
  {
   "cell_type": "code",
   "execution_count": 2,
   "metadata": {},
   "outputs": [],
   "source": [
    "import numpy as np\n",
    "import itertools\n",
    "from math import inf\n",
    "\n",
    "def czy_w_zbiorze(k, zbior):\n",
    "    # jesli bit jest w masce, to koniunkcja ze zbiorem będzie różna od 0\n",
    "    return (1 << k) & zbior != 0\n",
    "\n",
    "def komiwojazer(punkty):\n",
    "    macierz = odleglosci(punkty)\n",
    "    naj_cykl = []\n",
    "    N = len(punkty)\n",
    "    K = (1 << N) - 1\n",
    "    memo = np.full((N, 1 << N), 0)\n",
    "        \n",
    "    for k in range(N):\n",
    "        if k!=0:\n",
    "            memo[k][(1 << 0) | (1 << k)] = macierz[0][k]\n",
    "\n",
    "    # podział na podproblemy, tzn. szukanie optymalnej ścieżki dla pozdbiorów zawierających 0\n",
    "    # dla pozbiorów mocy 2 problem jest trywialny = dystans(0, k)\n",
    "    powers = [1 << e for e in range(N)]\n",
    "    for moc in range(3, N+1):\n",
    "        maski = {sum(bits) for bits in itertools.combinations(powers, moc)}\n",
    "        podzbiory = (X for X in maski if czy_w_zbiorze(0, X))\n",
    "        for X in podzbiory:\n",
    "            for k in range(N):\n",
    "                if k != 0 and czy_w_zbiorze(k, X):\n",
    "                    X_bez_k = X ^ (1 << k)\n",
    "                    rez = inf\n",
    "                    for i in range(N):\n",
    "                        if i != 0 and i != k and czy_w_zbiorze(i, X): \n",
    "                            rez_ = memo[i][X_bez_k] + macierz[i][k]\n",
    "                            rez = min(rez, rez_)\n",
    "                    memo[k][X] = rez\n",
    "\n",
    "    # odszukujemy i zapisujemy najkrótszy cykl\n",
    "    ostatni = 0\n",
    "    naj_cykl.append(0)\n",
    "    for i in range(1, N):\n",
    "        punkt = -1\n",
    "        for j in range(N):\n",
    "            if j != 0 and czy_w_zbiorze(j, K):\n",
    "                if punkt == -1: punkt = j\n",
    "                poprzednia_odl = memo[punkt][K] + macierz[punkt][ostatni]\n",
    "                nowa_odl = memo[j][K] + macierz[j][ostatni]\n",
    "                if nowa_odl < poprzednia_odl: punkt = j\n",
    "        naj_cykl.append(punkt)\n",
    "        K = K ^ (1 << punkt)\n",
    "        ostatni = punkt\n",
    "    naj_cykl.append(0)\n",
    "    \n",
    "    return naj_cykl"
   ]
  },
  {
   "cell_type": "code",
   "execution_count": 10,
   "metadata": {},
   "outputs": [],
   "source": [
    "import matplotlib.pyplot as plt\n",
    "import time\n",
    "\n",
    "def wykonaj(punkty):\n",
    "    start = time.time()\n",
    "    cykl = komiwojazer(punkty)\n",
    "    czas = time.time() - start\n",
    "    if czas > 100:\n",
    "        czas = czas/60\n",
    "        print(\"czas wykonania:\\t\", czas, \"min\")\n",
    "    else:\n",
    "        print(\"czas wykonania:\\t\", czas, \"s\")\n",
    "    \n",
    "    # dlugosc obliczamy już z funkcją sqrt, którą poprzednio pomijaliśmy\n",
    "    dlugosc = sum([odleglosc(punkty[cykl[i-1]], punkty[cykl[i]]) for i in range(len(cykl))])\n",
    "    print(\"długość cyklu:\\t\", dlugosc)\n",
    "    print(\"optymalny cykl:\\t\", [punkty[i] for i in cykl])\n",
    "\n",
    "    krawedzie = [(punkty[cykl[i-1]], punkty[cykl[i]]) for i in range(1, len(cykl))]    \n",
    "    x, y = [x[0] for x in punkty], [x[1] for x in punkty]\n",
    "    fig = plt.figure(figsize=(8,8))\n",
    "    plt.gca().set_aspect('equal',adjustable='datalim')\n",
    "    plt.scatter(x,y)\n",
    "    for i in krawedzie:\n",
    "        plt.plot((i[0][0], i[1][0]), (i[0][1], i[1][1]), 'g')    "
   ]
  },
  {
   "cell_type": "code",
   "execution_count": 19,
   "metadata": {},
   "outputs": [
    {
     "name": "stdout",
     "output_type": "stream",
     "text": [
      "czas wykonania:\t 0.0010018348693847656 s\n",
      "długość cyklu:\t 4.0\n",
      "optymalny cykl:\t [(0, 1), (1, 1), (1, 0), (0, 0), (0, 1)]\n"
     ]
    },
    {
     "data": {
      "image/png": "[encoded data removed]",
      "text/plain": [
       "<Figure size 576x576 with 1 Axes>"
      ]
     },
     "metadata": {
      "needs_background": "light"
     },
     "output_type": "display_data"
    }
   ],
   "source": [
    "punkty_4 = list(set((i, j) for i in range(2) for j in range(2)))\n",
    "wykonaj(punkty_4)"
   ]
  },
  {
   "cell_type": "code",
   "execution_count": 12,
   "metadata": {},
   "outputs": [
    {
     "name": "stdout",
     "output_type": "stream",
     "text": [
      "czas wykonania:\t 0.039971351623535156 s\n",
      "długość cyklu:\t 9.414213562373096\n",
      "optymalny cykl:\t [(0, 1), (0, 0), (1, 1), (1, 0), (2, 0), (2, 1), (2, 2), (1, 2), (0, 2), (0, 1)]\n"
     ]
    },
    {
     "data": {
      "image/png": "[encoded data removed]",
      "text/plain": [
       "<Figure size 576x576 with 1 Axes>"
      ]
     },
     "metadata": {
      "needs_background": "light"
     },
     "output_type": "display_data"
    }
   ],
   "source": [
    "punkty_9 = list(set((i, j) for i in range(3) for j in range(3)))\n",
    "wykonaj(punkty_9)"
   ]
  },
  {
   "cell_type": "code",
   "execution_count": 13,
   "metadata": {},
   "outputs": [
    {
     "name": "stdout",
     "output_type": "stream",
     "text": [
      "czas wykonania:\t 5.725362777709961 s\n",
      "długość cyklu:\t 15.414213562373096\n",
      "optymalny cykl:\t [(0, 1), (0, 0), (1, 1), (1, 0), (2, 0), (2, 1), (2, 2), (1, 2), (1, 3), (2, 3), (2, 4), (1, 4), (0, 4), (0, 3), (0, 2), (0, 1)]\n"
     ]
    },
    {
     "data": {
      "image/png": "[encoded data removed]",
      "text/plain": [
       "<Figure size 576x576 with 1 Axes>"
      ]
     },
     "metadata": {
      "needs_background": "light"
     },
     "output_type": "display_data"
    }
   ],
   "source": [
    "punkty_15 = list(set((i, j) for i in range(3) for j in range(5)))\n",
    "wykonaj(punkty_15)"
   ]
  },
  {
   "cell_type": "code",
   "execution_count": 14,
   "metadata": {},
   "outputs": [
    {
     "name": "stdout",
     "output_type": "stream",
     "text": [
      "czas wykonania:\t 13.508602142333984 s\n",
      "długość cyklu:\t 16.0\n",
      "optymalny cykl:\t [(0, 1), (0, 0), (1, 0), (1, 1), (1, 2), (2, 2), (2, 1), (2, 0), (3, 0), (3, 1), (3, 2), (3, 3), (2, 3), (1, 3), (0, 3), (0, 2), (0, 1)]\n"
     ]
    },
    {
     "data": {
      "image/png": "[encoded data removed]",
      "text/plain": [
       "<Figure size 576x576 with 1 Axes>"
      ]
     },
     "metadata": {
      "needs_background": "light"
     },
     "output_type": "display_data"
    }
   ],
   "source": [
    "punkty_16 = list(set((i, j) for i in range(4) for j in range(4)))\n",
    "wykonaj(punkty_16)"
   ]
  },
  {
   "cell_type": "code",
   "execution_count": 17,
   "metadata": {},
   "outputs": [
    {
     "name": "stdout",
     "output_type": "stream",
     "text": [
      "czas wykonania:\t 68.46336317062378 s\n",
      "długość cyklu:\t 18.0\n",
      "optymalny cykl:\t [(0, 1), (0, 0), (1, 0), (1, 1), (2, 1), (2, 0), (3, 0), (4, 0), (5, 0), (5, 1), (5, 2), (4, 2), (4, 1), (3, 1), (3, 2), (2, 2), (1, 2), (0, 2), (0, 1)]\n"
     ]
    },
    {
     "data": {
      "image/png": "[encoded data removed]",
      "text/plain": [
       "<Figure size 576x576 with 1 Axes>"
      ]
     },
     "metadata": {
      "needs_background": "light"
     },
     "output_type": "display_data"
    }
   ],
   "source": [
    "punkty_18 = list(set((i, j) for i in range(6) for j in range(3)))\n",
    "wykonaj(punkty_18)"
   ]
  },
  {
   "cell_type": "code",
   "execution_count": 15,
   "metadata": {},
   "outputs": [
    {
     "name": "stdout",
     "output_type": "stream",
     "text": [
      "czas wykonania:\t 5.7950388312339784 min\n",
      "długość cyklu:\t 20.0\n",
      "optymalny cykl:\t [(3, 4), (3, 3), (3, 2), (3, 1), (3, 0), (2, 0), (1, 0), (0, 0), (0, 1), (0, 2), (1, 2), (1, 1), (2, 1), (2, 2), (2, 3), (1, 3), (0, 3), (0, 4), (1, 4), (2, 4), (3, 4)]\n"
     ]
    },
    {
     "data": {
      "image/png": "[encoded data removed]",
      "text/plain": [
       "<Figure size 576x576 with 1 Axes>"
      ]
     },
     "metadata": {
      "needs_background": "light"
     },
     "output_type": "display_data"
    }
   ],
   "source": [
    "punkty_20 = list(set((i, j) for i in range(4) for j in range(5)))\n",
    "wykonaj(punkty_20)"
   ]
  },
  {
   "cell_type": "code",
   "execution_count": 16,
   "metadata": {},
   "outputs": [
    {
     "name": "stdout",
     "output_type": "stream",
     "text": [
      "czas wykonania:\t 12.522484346230824 min\n",
      "długość cyklu:\t 21.414213562373096\n",
      "optymalny cykl:\t [(0, 2), (1, 3), (1, 2), (1, 1), (0, 1), (0, 0), (1, 0), (2, 0), (2, 1), (2, 2), (2, 3), (2, 4), (2, 5), (2, 6), (1, 6), (0, 6), (0, 5), (1, 5), (1, 4), (0, 4), (0, 3), (0, 2)]\n"
     ]
    },
    {
     "data": {
      "image/png": "[encoded data removed]",
      "text/plain": [
       "<Figure size 576x576 with 1 Axes>"
      ]
     },
     "metadata": {
      "needs_background": "light"
     },
     "output_type": "display_data"
    }
   ],
   "source": [
    "punkty_21 = list(set((i, j) for i in range(3) for j in range(7)))\n",
    "wykonaj(punkty_21)"
   ]
  }
 ],
 "metadata": {
  "kernelspec": {
   "display_name": "Python 3",
   "language": "python",
   "name": "python3"
  },
  "language_info": {
   "codemirror_mode": {
    "name": "ipython",
    "version": 3
   },
   "file_extension": ".py",
   "mimetype": "text/x-python",
   "name": "python",
   "nbconvert_exporter": "python",
   "pygments_lexer": "ipython3",
   "version": "3.8.5"
  }
 },
 "nbformat": 4,
 "nbformat_minor": 4
}
