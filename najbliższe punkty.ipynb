{
 "cells": [
  {
   "cell_type": "code",
   "execution_count": 54,
   "metadata": {},
   "outputs": [],
   "source": [
    "import math\n",
    "\n",
    "# odległość między dwoma punktami w ukladzie wspolrzednych\n",
    "def odl_dwoch(p, q):\n",
    "    return math.sqrt((p[0] - q[0])**2 + (p[1] - q[1]) ** 2)\n",
    "\n",
    "# zlozonosc O(n^2)\n",
    "def naiwny(punkty):    \n",
    "    # wstępnie uznajemy że dwa pierwsze punkty są parą najbliższych\n",
    "    najkrotsza = odl_dwoch(punkty[0], punkty[1])\n",
    "    najblizsze = punkty[0], punkty[1]\n",
    "\n",
    "    # aby uniknąć obliczeń jeśli są tylko dwa punkty\n",
    "    if len(punkty) == 2: return najblizsze, najkrotsza\n",
    "    \n",
    "    # porownujemy kazy z kazdym, nadpisujemy zmienne jesli znajdziemy lepsza parę\n",
    "    for i in range(len(punkty)-1):\n",
    "        for j in range(i+1, len(punkty)):\n",
    "            p, q = punkty[i], punkty[j]\n",
    "            odl = odl_dwoch(p, q)\n",
    "            if odl < najkrotsza:\n",
    "                najkrotsza = odl\n",
    "                najblizsze = p, q\n",
    "    return najblizsze, najkrotsza\n",
    "\n",
    "# uruchamia algorytm naiwny dla całego zbioru punktów\n",
    "def alg_naiwny(punkty):\n",
    "    odleglosc = naiwny(punkty)[1]\n",
    "    return odleglosc"
   ]
  },
  {
   "cell_type": "code",
   "execution_count": 55,
   "metadata": {},
   "outputs": [],
   "source": [
    "def pas_delta(punkty_po_y, srodek, delta, najblizsze):    \n",
    "    # dobieramy punkty które są oddalone od srodka maksymalnie o deltę od srodka\n",
    "    punkty = [x for x in punkty_po_y if delta > abs(srodek - x[0])] \n",
    "    ile_punktow = len(punkty)\n",
    "    najkrotsze = delta\n",
    "\n",
    "    # dla kazdego punktu jest maksymalnie 7 punktow blizszych niż delta (dowod przez pakowanie)\n",
    "    for i in range(ile_punktow - 1):\n",
    "        # dla kazdego punktu sprawdzamy maks 7 punktów wyżej od niego\n",
    "        for j in range(i+1, min(i+7, ile_punktow)):\n",
    "            p, q = punkty[i], punkty[j]\n",
    "            odl = odl_dwoch(p,q)\n",
    "            if odl < najkrotsze:\n",
    "                najblizsze = p, q\n",
    "                najkrotsze = odl\n",
    "    return najblizsze, najkrotsze"
   ]
  },
  {
   "cell_type": "code",
   "execution_count": 56,
   "metadata": {},
   "outputs": [],
   "source": [
    "# zlozonosc O(n(log n)^2)\n",
    "def para_najblizszych_wolne(punkty):\n",
    "    # jesli punktów jest 3 lub mniej, algorytm naiwny będzie rownie skuteczny\n",
    "    if len(punkty) <= 3: return naiwny(punkty)\n",
    "\n",
    "    # punkty posortowane po x, zebyśmy mogli podzielic je prostą x\n",
    "    punkty_po_x = sorted(punkty, key=lambda x: x[0])    \n",
    "    pol = len(punkty) // 2\n",
    "    srodek = (punkty_po_x[-1][0] - punkty_po_x[0][0]) / 2\n",
    "    L = punkty_po_x[:pol]\n",
    "    R = punkty_po_x[pol:]\n",
    "\n",
    "    # szukamy pary najbliższych dla obu połówek\n",
    "    najblizsze_L, najkrotsze_L = para_najblizszych_wolne(L)\n",
    "    najblizsze_R, najkrotsze_R = para_najblizszych_wolne(R)\n",
    "    if (najkrotsze_L <= najkrotsze_R): najkrotsze, najblizsze = najkrotsze_L, najblizsze_L\n",
    "    else: najkrotsze, najblizsze = najkrotsze_R, najblizsze_R\n",
    "\n",
    "    # punkty posortowane po y, żebyśmy mogli przeszukać pary punktów lezacych w przeciwnych polowkach\n",
    "    punkty_po_y = sorted(punkty, key=lambda x: (x[1],x[0]))\n",
    "    najblizsze_S, najkrotsze_S = pas_delta(punkty_po_y, srodek, najkrotsze, najblizsze)\n",
    "    \n",
    "    # zwracamy wynik\n",
    "    if najkrotsze <= najkrotsze_S: return najblizsze, najkrotsze\n",
    "    else: return najblizsze_S, najkrotsze_S\n",
    "\n",
    "def dziel_i_rzadz_wolne(punkty):\n",
    "    odleglosc = para_najblizszych_wolne(punkty)[1]\n",
    "    return odleglosc"
   ]
  },
  {
   "cell_type": "code",
   "execution_count": 57,
   "metadata": {},
   "outputs": [],
   "source": [
    "# zlozonosc O(n log n)\n",
    "def para_najblizszych_szybkie(punkty_po_x, punkty_po_y):\n",
    "    # jesli punktów jest 3 lub mniej, algorytm naiwny będzie rownie skuteczny\n",
    "    if len(punkty_po_x) <= 3: return naiwny(punkty_po_x)\n",
    "\n",
    "    # punkty są posortowane po x, zebyśmy mogli podzielic je prostą x\n",
    "    pol = len(punkty_po_x) // 2\n",
    "    srodek = (punkty_po_x[-1][0] - punkty_po_x[0][0]) / 2\n",
    "    L_po_x = punkty_po_x[:pol]\n",
    "    R_po_x = punkty_po_x[pol:]\n",
    "    L_po_y, R_po_y = list(), list()\n",
    "    for p in punkty_po_y:\n",
    "        if p[0] < srodek: L_po_y.append(p)\n",
    "        else: R_po_y.append(p)\n",
    "\n",
    "    # szukamy pary najbliższych dla obu połówek\n",
    "    najblizsze_L, najkrotsze_L = para_najblizszych_szybkie(L_po_x, L_po_y)\n",
    "    najblizsze_R, najkrotsze_R = para_najblizszych_szybkie(R_po_x, R_po_y)\n",
    "    if (najkrotsze_L <= najkrotsze_R): najkrotsze, najblizsze = najkrotsze_L, najblizsze_L\n",
    "    else: najkrotsze, najblizsze = najkrotsze_R, najblizsze_R\n",
    "\n",
    "    # punkty posortowane po y, żebyśmy mogli przeszukać pary punktów lezacych w przeciwnych polowkach\n",
    "    najblizsze_S, najkrotsze_S = pas_delta(punkty_po_y, srodek, najkrotsze, najblizsze)\n",
    "    \n",
    "    # zwracamy wynik\n",
    "    if najkrotsze <= najkrotsze_S: return najblizsze, najkrotsze\n",
    "    else: return najblizsze_S, najkrotsze_S\n",
    "\n",
    "def dziel_i_rzadz_szybkie(punkty):\n",
    "    punkty_po_x = sorted(punkty, key=lambda x: x[0])    \n",
    "    punkty_po_y = sorted(punkty, key=lambda x: (x[1],x[0]))\n",
    "    odleglosc = para_najblizszych_szybkie(punkty_po_x, punkty_po_y)[1]\n",
    "    return odleglosc"
   ]
  },
  {
   "cell_type": "code",
   "execution_count": 58,
   "metadata": {},
   "outputs": [],
   "source": [
    "from matplotlib import pyplot as plt\n",
    "\n",
    "def rysunek(punkty):\n",
    "    x, y = [x[0] for x in punkty], [x[1] for x in punkty]\n",
    "    fig = plt.figure(figsize=(8,8))\n",
    "    plt.gca().set_aspect('equal',adjustable='datalim')\n",
    "    plt.scatter(x,y)"
   ]
  },
  {
   "cell_type": "code",
   "execution_count": 59,
   "metadata": {},
   "outputs": [],
   "source": [
    "def pionowe(n: int):\n",
    "    return list(set((1, i) for i in range(n)))\n",
    "def poziome(n: int):\n",
    "    return list(set((i, 1) for i in range(n)))\n",
    "def ukosne(n: int):\n",
    "    return list(set((i, i) for i in range(n)))\n",
    "def kwadrat(n: int):\n",
    "    return list(set((i, j) for i in range(n) for j in range(n)))"
   ]
  },
  {
   "cell_type": "code",
   "execution_count": 98,
   "metadata": {},
   "outputs": [
    {
     "name": "stdout",
     "output_type": "stream",
     "text": [
      "algorytm naiwny:\t2.327425718307495 s\n",
      "algorytm O(n(log n)^2):\t0.015625953674316406 s\n",
      "algorytm O(n log n):\t0.015624046325683594 s\n",
      "najmniejsza odleglosc:\t0.3535533905932738\n"
     ]
    },
    {
     "data": {
      "image/png": "[encoded data removed]",
      "text/plain": [
       "<Figure size 576x576 with 1 Axes>"
      ]
     },
     "metadata": {
      "needs_background": "light"
     },
     "output_type": "display_data"
    }
   ],
   "source": [
    "import time\n",
    "punkty = poziome(2000)\n",
    "# dodajemy jeden punkt wylamujacy sie z reguly - aby sprawdzic poprawnosc\n",
    "punkty.append((1.75, 1.25))\n",
    "\n",
    "start = time.time()\n",
    "distance_0 = alg_naiwny(punkty)\n",
    "print(\"algorytm naiwny:\\t%s s\" % (time.time() - start))\n",
    "\n",
    "start = time.time()\n",
    "distance_1 = dziel_i_rzadz_wolne(punkty)\n",
    "print(\"algorytm O(n(log n)^2):\\t%s s\" % (time.time() - start))\n",
    "\n",
    "start = time.time()\n",
    "distance_2 = dziel_i_rzadz_szybkie(punkty)\n",
    "print(\"algorytm O(n log n):\\t%s s\" % (time.time() - start))\n",
    "\n",
    "print(\"najmniejsza odleglosc:\\t%s\" % distance_2)\n",
    "\n",
    "rysunek(punkty)\n",
    "plt.show()"
   ]
  },
  {
   "cell_type": "code",
   "execution_count": 95,
   "metadata": {},
   "outputs": [
    {
     "name": "stdout",
     "output_type": "stream",
     "text": [
      "algorytm naiwny:\t2.3271310329437256 s\n",
      "algorytm O(n(log n)^2):\t0.14062094688415527 s\n",
      "algorytm O(n log n):\t0.15624523162841797 s\n",
      "najmniejsza odleglosc:\t0.7905694150420949\n"
     ]
    },
    {
     "data": {
      "image/png": "[encoded data removed]",
      "text/plain": [
       "<Figure size 576x576 with 1 Axes>"
      ]
     },
     "metadata": {
      "needs_background": "light"
     },
     "output_type": "display_data"
    }
   ],
   "source": [
    "punkty = pionowe(2000)\n",
    "# dodajemy jeden punkt wylamujacy sie z reguly - aby sprawdzic poprawnosc\n",
    "punkty.append((1.75, 1.25))\n",
    "\n",
    "start = time.time()\n",
    "distance_0 = alg_naiwny(punkty)\n",
    "print(\"algorytm naiwny:\\t%s s\" % (time.time() - start))\n",
    "\n",
    "start = time.time()\n",
    "distance_1 = dziel_i_rzadz_wolne(punkty)\n",
    "print(\"algorytm O(n(log n)^2):\\t%s s\" % (time.time() - start))\n",
    "\n",
    "start = time.time()\n",
    "distance_2 = dziel_i_rzadz_szybkie(punkty)\n",
    "print(\"algorytm O(n log n):\\t%s s\" % (time.time() - start))\n",
    "\n",
    "print(\"najmniejsza odleglosc:\\t%s\" % distance_2)\n",
    "\n",
    "rysunek(punkty)\n",
    "plt.show()"
   ]
  },
  {
   "cell_type": "code",
   "execution_count": 89,
   "metadata": {
    "scrolled": false
   },
   "outputs": [
    {
     "name": "stdout",
     "output_type": "stream",
     "text": [
      "algorytm naiwny:\t2.5109951496124268 s\n",
      "algorytm O(n(log n)^2):\t0.015625953674316406 s\n",
      "algorytm O(n log n):\t0.015624761581420898 s\n",
      "najmniejsza odleglosc:\t0.7905694150420949\n"
     ]
    },
    {
     "data": {
      "image/png": "[encoded data removed]",
      "text/plain": [
       "<Figure size 576x576 with 1 Axes>"
      ]
     },
     "metadata": {
      "needs_background": "light"
     },
     "output_type": "display_data"
    }
   ],
   "source": [
    "punkty = ukosne(2000)\n",
    "# dodajemy jeden punkt wylamujacy sie z reguly - aby sprawdzic poprawnosc\n",
    "punkty.append((1.75, 1.25))\n",
    "\n",
    "start = time.time()\n",
    "distance_0 = alg_naiwny(punkty)\n",
    "print(\"algorytm naiwny:\\t%s s\" % (time.time() - start))\n",
    "\n",
    "start = time.time()\n",
    "distance_1 = dziel_i_rzadz_wolne(punkty)\n",
    "print(\"algorytm O(n(log n)^2):\\t%s s\" % (time.time() - start))\n",
    "\n",
    "start = time.time()\n",
    "distance_2 = dziel_i_rzadz_szybkie(punkty)\n",
    "print(\"algorytm O(n log n):\\t%s s\" % (time.time() - start))\n",
    "\n",
    "print(\"najmniejsza odleglosc:\\t%s\" % distance_2)\n",
    "\n",
    "rysunek(punkty)\n",
    "plt.show()"
   ]
  },
  {
   "cell_type": "code",
   "execution_count": 63,
   "metadata": {},
   "outputs": [
    {
     "name": "stdout",
     "output_type": "stream",
     "text": [
      "algorytm naiwny:\t3.960329055786133 s\n",
      "algorytm O(n(log n)^2):\t0.047998905181884766 s\n",
      "algorytm O(n log n):\t0.02399897575378418 s\n",
      "najmniejsza odleglosc:\t0.3535533905932738\n"
     ]
    },
    {
     "data": {
      "image/png": "[encoded data removed]",
      "text/plain": [
       "<Figure size 576x576 with 1 Axes>"
      ]
     },
     "metadata": {
      "needs_background": "light"
     },
     "output_type": "display_data"
    }
   ],
   "source": [
    "punkty = kwadrat(50)\n",
    "# dodajemy jeden punkt wylamujacy sie z reguly - aby sprawdzic poprawnosc\n",
    "punkty.append((1.75, 1.25))\n",
    "\n",
    "start = time.time()\n",
    "distance_0 = alg_naiwny(punkty)\n",
    "print(\"algorytm naiwny:\\t%s s\" % (time.time() - start))\n",
    "\n",
    "start = time.time()\n",
    "distance_1 = dziel_i_rzadz_wolne(punkty)\n",
    "print(\"algorytm O(n(log n)^2):\\t%s s\" % (time.time() - start))\n",
    "\n",
    "start = time.time()\n",
    "distance_2 = dziel_i_rzadz_szybkie(punkty)\n",
    "print(\"algorytm O(n log n):\\t%s s\" % (time.time() - start))\n",
    "\n",
    "print(\"najmniejsza odleglosc:\\t%s\" % distance_2)\n",
    "\n",
    "rysunek(punkty)\n",
    "plt.show()"
   ]
  }
 ],
 "metadata": {
  "kernelspec": {
   "display_name": "Python 3",
   "language": "python",
   "name": "python3"
  },
  "language_info": {
   "codemirror_mode": {
    "name": "ipython",
    "version": 3
   },
   "file_extension": ".py",
   "mimetype": "text/x-python",
   "name": "python",
   "nbconvert_exporter": "python",
   "pygments_lexer": "ipython3",
   "version": "3.8.5"
  }
 },
 "nbformat": 4,
 "nbformat_minor": 4
}
